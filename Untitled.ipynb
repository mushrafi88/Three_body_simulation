{
 "cells": [
  {
   "cell_type": "markdown",
   "id": "a11a2f8f-eea1-40d5-b833-51ecffca5d13",
   "metadata": {
    "tags": []
   },
   "source": [
    "# Calculation"
   ]
  },
  {
   "cell_type": "code",
   "execution_count": 171,
   "id": "058ae36e-a4f8-43d8-adba-48ce87b6c480",
   "metadata": {},
   "outputs": [],
   "source": [
    "import scipy as sp\n",
    "import numpy as np\n",
    "import matplotlib.pyplot as plt\n",
    "from scipy.integrate import odeint\n",
    "from manim import *\n",
    "from matplotlib import animation\n",
    "from mpl_toolkits.mplot3d import Axes3D\n",
    "from matplotlib.animation import PillowWriter"
   ]
  },
  {
   "cell_type": "code",
   "execution_count": 172,
   "id": "5e4b5cda-fe5a-4cfe-abba-19cf7236f6c3",
   "metadata": {},
   "outputs": [],
   "source": [
    "g=6.6740e-11\n",
    "m_nd=1.989e+30 #kg Solar Mass\n",
    "r_nd=5.326e+12 #m Distance between bodies\n",
    "v_nd=30000 #m/s Velocity of Terra wrt Sol, relative\n",
    "t_nd=79.91*365*24*3600*0.51 #s Alpha's Centauri's orbit\n",
    "# Constants\n",
    "K1=g*t_nd*m_nd/(r_nd**2*v_nd)\n",
    "K2=v_nd*t_nd/r_nd"
   ]
  },
  {
   "cell_type": "code",
   "execution_count": 173,
   "id": "052b146e-738c-4174-9114-32d040e2269a",
   "metadata": {},
   "outputs": [],
   "source": [
    "#Define masses\n",
    "m1=1.1 #AC A\n",
    "m2=0.907\n",
    "m3=1.0\n",
    "\n",
    "#Define initial position vectors\n",
    "\n",
    "r1=[-0.5,0,0]\n",
    "r2=[0.5,0,0]\n",
    "r3=[0,1,0]\n",
    "\n",
    "v1=[0.01,0.01,0] #m/s\n",
    "v2=[-0.05,0,-0.1] #m/s#Velocity -> to arrays\n",
    "v3=[0,-0.01,0]\n",
    "\n",
    "max_orbital_period = 50\n",
    "time_gap = 1000\n",
    "\n",
    "time_span=np.linspace(0,max_orbital_period,time_gap)"
   ]
  },
  {
   "cell_type": "code",
   "execution_count": 174,
   "id": "ac68fee6-3e0b-455c-9609-b0b288539694",
   "metadata": {},
   "outputs": [],
   "source": [
    "#Convert pvectors to arrays\n",
    "r1=np.array(r1,dtype=\"float64\")\n",
    "r2=np.array(r2,dtype=\"float64\")\n",
    "r3=np.array(r3,dtype=\"float64\")\n",
    "\n",
    "#Find velocity of centroids\n",
    "v1=np.array(v1,dtype=\"float64\")\n",
    "v2=np.array(v2,dtype=\"float64\")\n",
    "v3=np.array(v3,dtype=\"float64\")\n",
    "\n",
    "# Three body Centroid data\n",
    "r_com=(m1*r1+m2*r2+m3*r3)/(m1+m2+m3)\n",
    "# velocity of three centroids\n",
    "v_com=(m1*v1+m2*v2+m3*v3)/(m1+m2+m3)"
   ]
  },
  {
   "cell_type": "code",
   "execution_count": 175,
   "id": "038e23f6-8d43-4a64-9b60-f4235add11e1",
   "metadata": {},
   "outputs": [],
   "source": [
    "def ThreeBodyEquations(w, t, G, m1, m2, m3):\n",
    "    r1 = w[:3]\n",
    "    r2 = w[3:6]\n",
    "    r3 = w[6:9]\n",
    "    v1 = w[9:12]\n",
    "    v2 = w[12:15]\n",
    "    v3 = w[15:18]\n",
    "    r12 = sp.linalg.norm(r2 - r1)\n",
    "    r13 = sp.linalg.norm(r3 - r1)\n",
    "    r23 = sp.linalg.norm(r3 - r2)\n",
    "\n",
    "    dv1bydt = K1 * m2 * (r2 - r1) / r12 ** 3 + K1 * m3 * (r3 - r1) / r13 ** 3\n",
    "    dv2bydt = K1 * m1 * (r1 - r2) / r12 ** 3 + K1 * m3 * (r3 - r2) / r23 ** 3\n",
    "    dv3bydt = K1 * m1 * (r1 - r3) / r13 ** 3 + K1 * m2 * (r2 - r3) / r23 ** 3\n",
    "    dr1bydt = K2 * v1\n",
    "    dr2bydt = K2 * v2\n",
    "    dr3bydt = K2 * v3\n",
    "    r12_derivs = np.concatenate((dr1bydt, dr2bydt))\n",
    "    r_derivs = np.concatenate((r12_derivs, dr3bydt))\n",
    "    v12_derivs = np.concatenate((dv1bydt, dv2bydt))\n",
    "    v_derivs = np.concatenate((v12_derivs, dv3bydt))\n",
    "    derivation = np.concatenate((r_derivs, v_derivs))\n",
    "    return derivation"
   ]
  },
  {
   "cell_type": "code",
   "execution_count": 176,
   "id": "e029875a-d1f1-4382-8f5c-56ad5618c5e1",
   "metadata": {},
   "outputs": [],
   "source": [
    "#Parameters\n",
    "init_params=np.array([r1,r2,r3,v1,v2,v3]) #Initial parameters\n",
    "init_params=init_params.flatten()\n",
    "threeBodyEquations=sp.integrate.odeint(ThreeBodyEquations,init_params,time_span,args=(g,m1,m2,m3))\n",
    "\n",
    "r1_sol=threeBodyEquations[:,:3]\n",
    "r2_sol=threeBodyEquations[:,3:6]\n",
    "r3_sol=threeBodyEquations[:,6:9]"
   ]
  },
  {
   "cell_type": "code",
   "execution_count": 177,
   "id": "71460546-9f29-4711-b1e8-29127aea770f",
   "metadata": {},
   "outputs": [],
   "source": [
    "r1_x,r1_y,r1_z = r1_sol[:,0],r1_sol[:,1],r1_sol[:,2]\n",
    "r2_x,r2_y,r2_z = r2_sol[:,0],r2_sol[:,1],r2_sol[:,2]\n",
    "r3_x,r3_y,r3_z = r3_sol[:,0],r3_sol[:,1],r3_sol[:,2]"
   ]
  },
  {
   "cell_type": "markdown",
   "id": "5a4a25a5-a529-4bcc-a9d8-d897965e708b",
   "metadata": {},
   "source": [
    "# Plotting points using manim"
   ]
  },
  {
   "cell_type": "code",
   "execution_count": 178,
   "id": "f6283af0-0f80-4062-9f5c-3ce64210f78b",
   "metadata": {},
   "outputs": [],
   "source": [
    "ma_x = []\n",
    "mi_x = []\n",
    "ma_y = []\n",
    "mi_y = []\n",
    "for i in r1_x,r2_x,r3_x:\n",
    "    ma_x.append(np.max(i))\n",
    "    mi_x.append(np.min(i))\n",
    "for i in r1_y,r2_y,r3_y:\n",
    "    ma_y.append(np.max(i))\n",
    "    mi_y.append(np.min(i))"
   ]
  },
  {
   "cell_type": "code",
   "execution_count": 179,
   "id": "f6548754-88eb-460e-a163-4210d49269ee",
   "metadata": {},
   "outputs": [
    {
     "data": {
      "text/plain": [
       "18.07872003835413"
      ]
     },
     "execution_count": 179,
     "metadata": {},
     "output_type": "execute_result"
    }
   ],
   "source": [
    "max(ma_x)"
   ]
  },
  {
   "cell_type": "code",
   "execution_count": 180,
   "id": "46c17cf1-899a-4497-9301-8eb2571a65eb",
   "metadata": {},
   "outputs": [
    {
     "data": {
      "text/plain": [
       "-55.665926043798834"
      ]
     },
     "execution_count": 180,
     "metadata": {},
     "output_type": "execute_result"
    }
   ],
   "source": [
    "min(mi_x)"
   ]
  },
  {
   "cell_type": "code",
   "execution_count": 181,
   "id": "59fbf024-2e05-40b5-a277-322bd9fcc790",
   "metadata": {},
   "outputs": [
    {
     "data": {
      "text/plain": [
       "29.639260333223287"
      ]
     },
     "execution_count": 181,
     "metadata": {},
     "output_type": "execute_result"
    }
   ],
   "source": [
    "max(ma_y)"
   ]
  },
  {
   "cell_type": "code",
   "execution_count": 182,
   "id": "b009c2c7-df0e-49f4-9ebc-07fb2448bd93",
   "metadata": {},
   "outputs": [
    {
     "data": {
      "text/plain": [
       "-12.166083030654214"
      ]
     },
     "execution_count": 182,
     "metadata": {},
     "output_type": "execute_result"
    }
   ],
   "source": [
    "min(mi_y)"
   ]
  },
  {
   "cell_type": "code",
   "execution_count": 183,
   "id": "2dd8de16-6321-4983-b8b3-f5674b6cd82b",
   "metadata": {},
   "outputs": [
    {
     "data": {
      "text/plain": [
       "1000"
      ]
     },
     "execution_count": 183,
     "metadata": {},
     "output_type": "execute_result"
    }
   ],
   "source": [
    "len(r1_x)"
   ]
  },
  {
   "cell_type": "code",
   "execution_count": null,
   "id": "98d83a46-bec2-42bc-9207-450f7f645a37",
   "metadata": {},
   "outputs": [],
   "source": [
    "def animate(i):\n",
    "    ln1.set_data([r1_x[i], r2_x[i], r3_x[i]], [r1_y[i], r2_y[i], r3_y[i]])\n",
    "fig, ax = plt.subplots(1,1, figsize=(8,8))\n",
    "ax.grid()\n",
    "ln1, = plt.plot([], [], 'ro', lw=3, markersize=6)\n",
    "ax.set_ylim(-3, 3)\n",
    "ax.set_xlim(-6,6)\n",
    "ani = animation.FuncAnimation(fig, animate, frames=1000, interval=50)\n",
    "ani.save('3_body.gif',writer='pillow',fps=30)"
   ]
  },
  {
   "cell_type": "code",
   "execution_count": null,
   "id": "23fe5627-5df4-4557-9c83-7dcf0c90efc9",
   "metadata": {},
   "outputs": [
    {
     "name": "stderr",
     "output_type": "stream",
     "text": [
      "                                       \r"
     ]
    }
   ],
   "source": [
    "%%manim -qh -v WARNING CreateGraph\n",
    "\n",
    "class CreateGraph(Scene):\n",
    "    def construct(self):\n",
    "        config.max_files_cached = -1\n",
    "        #axes = Axes(\n",
    "        #    x_range=[-3, 3, 0.5],\n",
    "        #    y_range=[-3, 3, 0.5],\n",
    "        #)\n",
    "        dot1 = Dot([r1_x[0],r1_y[0],0],radius=0.115,color=RED)\n",
    "        dot2 = Dot([r2_x[0],r2_y[0],0],radius=0.115,color=GREEN)\n",
    "        dot3 = Dot([r3_x[0],r3_y[0],0],radius=0.115,color=BLUE)\n",
    "        title = Text(\n",
    "            f\"Orbital Period : \",\n",
    "            font_size=35\n",
    "        )\n",
    "        title.to_edge(UP)\n",
    "        period = Text(f\"{0/700:0.3}\",font_size=35)\n",
    "        period.next_to(title)\n",
    "        self.add(dot1,dot2,dot3,title,period)\n",
    "        for i in range(0,len(r1_x)):\n",
    "            dot1.move_to([r1_x[i],r1_y[i],0])\n",
    "            dot2.move_to([r2_x[i],r2_y[i],0])\n",
    "            dot3.move_to([r3_x[i],r3_y[i],0])\n",
    "            #self.wait(0.1)\n",
    "            period.become(Text(f\"{(i/time_gap)*max_orbital_period:.3f}\",font_size=35))\n",
    "            period.next_to(title)\n",
    "            self.play(Write(period),dot1.animate(),dot2.animate(),dot3.animate(),rate_func=linear)"
   ]
  },
  {
   "cell_type": "code",
   "execution_count": null,
   "id": "835ed46e-4d8f-44be-9c9a-ffa7c0fef45b",
   "metadata": {},
   "outputs": [],
   "source": [
    "%%manim -qh -v WARNING Three_body_graph_trace_no_heading\n",
    "\n",
    "class Three_body_graph_trace_no_heading(Scene):\n",
    "    def construct(self):\n",
    "        axes = Axes(\n",
    "            x_range=[-3, 3, 0.5],\n",
    "            y_range=[-3, 3, 0.5],\n",
    "        )\n",
    "        dot1 = Dot([r1_x[0],r1_y[0],0],radius=0.115,color=RED)\n",
    "        dot2 = Dot([r2_x[0],r2_y[0],0],radius=0.115,color=GREEN)\n",
    "        dot3 = Dot([r3_x[0],r3_y[0],0],radius=0.115,color=BLUE)\n",
    "        path1 = VMobject(color=RED)\n",
    "        path2 = VMobject(color=GREEN)\n",
    "        path3 = VMobject(color=BLUE)\n",
    "        path1.set_points_as_corners([dot1.get_center(), dot1.get_center()])\n",
    "        path2.set_points_as_corners([dot2.get_center(), dot2.get_center()])\n",
    "        path3.set_points_as_corners([dot3.get_center(), dot3.get_center()])\n",
    " \n",
    "        self.add(dot1,dot2,dot3,path1,path2,path3)\n",
    "        for i in range(0,len(r1_x)):\n",
    "            dot1.move_to([r1_x[i],r1_y[i],0])\n",
    "            previous_path1 = path1.copy()\n",
    "            previous_path1.add_points_as_corners([dot1.get_center()])\n",
    "            path1.become(previous_path1)\n",
    "            dot2.move_to([r2_x[i],r2_y[i],0])\n",
    "            previous_path2 = path2.copy()\n",
    "            previous_path2.add_points_as_corners([dot2.get_center()])\n",
    "            path2.become(previous_path2)\n",
    "            dot3.move_to([r3_x[i],r3_y[i],0])\n",
    "            previous_path3 = path3.copy()\n",
    "            previous_path3.add_points_as_corners([dot3.get_center()])\n",
    "            path3.become(previous_path3)\n",
    "            #self.wait(0.1)\n",
    "\n",
    "            self.play(dot1.animate(),dot2.animate(),dot3.animate(),path1.animate(),path2.animate(),path3.animate(),rate_func=linear)"
   ]
  },
  {
   "cell_type": "code",
   "execution_count": null,
   "id": "a9614688-09be-45c2-8bce-d20c7d421c19",
   "metadata": {},
   "outputs": [],
   "source": []
  }
 ],
 "metadata": {
  "kernelspec": {
   "display_name": "Python 3 (ipykernel)",
   "language": "python",
   "name": "python3"
  },
  "language_info": {
   "codemirror_mode": {
    "name": "ipython",
    "version": 3
   },
   "file_extension": ".py",
   "mimetype": "text/x-python",
   "name": "python",
   "nbconvert_exporter": "python",
   "pygments_lexer": "ipython3",
   "version": "3.9.7"
  }
 },
 "nbformat": 4,
 "nbformat_minor": 5
}
